{
  "metadata": {
    "kernelspec": {
      "language": "python",
      "display_name": "Python 3",
      "name": "python3"
    },
    "language_info": {
      "name": "python",
      "version": "3.7.10",
      "mimetype": "text/x-python",
      "codemirror_mode": {
        "name": "ipython",
        "version": 3
      },
      "pygments_lexer": "ipython3",
      "nbconvert_exporter": "python",
      "file_extension": ".py"
    },
    "colab": {
      "name": "digital naturalist",
      "provenance": []
    }
  },
  "nbformat_minor": 0,
  "nbformat": 4,
  "cells": [
    {
      "cell_type": "code",
      "source": [
        "from tensorflow.keras.models import Sequential\n",
        "from tensorflow.keras.layers import Dense, Convolution2D,MaxPooling2D,Flatten\n",
        "import pandas as pd\n"
      ],
      "metadata": {
        "_uuid": "8f2839f25d086af736a60e9eeb907d3b93b6e0e5",
        "_cell_guid": "b1076dfc-b9ad-4769-8c92-a6c4dae69d19",
        "execution": {
          "iopub.status.busy": "2021-07-30T13:37:57.142046Z",
          "iopub.execute_input": "2021-07-30T13:37:57.142566Z",
          "iopub.status.idle": "2021-07-30T13:37:57.148286Z",
          "shell.execute_reply.started": "2021-07-30T13:37:57.142534Z",
          "shell.execute_reply": "2021-07-30T13:37:57.146998Z"
        },
        "trusted": true,
        "id": "kiaNYQxFy6qv"
      },
      "execution_count": null,
      "outputs": []
    },
    {
      "cell_type": "code",
      "source": [
        "from tensorflow.keras.preprocessing .image import ImageDataGenerator\n",
        "train_datagen = ImageDataGenerator(rescale = 1./255,shear_range = 0.2,zoom_range = 0.2,horizontal_flip = True)\n",
        "test_datagen = ImageDataGenerator(rescale = 1./255)"
      ],
      "metadata": {
        "execution": {
          "iopub.status.busy": "2021-07-30T13:37:59.537850Z",
          "iopub.execute_input": "2021-07-30T13:37:59.538639Z",
          "iopub.status.idle": "2021-07-30T13:37:59.545237Z",
          "shell.execute_reply.started": "2021-07-30T13:37:59.538589Z",
          "shell.execute_reply": "2021-07-30T13:37:59.544225Z"
        },
        "trusted": true,
        "id": "638rmj5Iy6qx"
      },
      "execution_count": null,
      "outputs": []
    },
    {
      "cell_type": "code",
      "source": [
        "x_train=train_datagen.flow_from_directory(\"../input/alphaxy/pro-ai\",target_size = (64,64),batch_size = 32,class_mode = \"categorical\")\n",
        "x_test=test_datagen.flow_from_directory(\"../input/testdatao\",target_size = (64,64),batch_size = 32,class_mode = \"categorical\")"
      ],
      "metadata": {
        "execution": {
          "iopub.status.busy": "2021-07-30T13:38:02.242066Z",
          "iopub.execute_input": "2021-07-30T13:38:02.242448Z",
          "iopub.status.idle": "2021-07-30T13:38:02.790280Z",
          "shell.execute_reply.started": "2021-07-30T13:38:02.242414Z",
          "shell.execute_reply": "2021-07-30T13:38:02.789194Z"
        },
        "trusted": true,
        "id": "QPm8hpnEy6qy",
        "outputId": "0d16b45e-8bf8-4302-eb2b-dff0d6e7afa6"
      },
      "execution_count": null,
      "outputs": [
        {
          "name": "stdout",
          "text": "Found 8305 images belonging to 3 classes.\nFound 900 images belonging to 3 classes.\n",
          "output_type": "stream"
        }
      ]
    },
    {
      "cell_type": "code",
      "source": [
        "x_train.class_indices"
      ],
      "metadata": {
        "execution": {
          "iopub.status.busy": "2021-07-30T13:38:06.556283Z",
          "iopub.execute_input": "2021-07-30T13:38:06.556797Z",
          "iopub.status.idle": "2021-07-30T13:38:06.562982Z",
          "shell.execute_reply.started": "2021-07-30T13:38:06.556742Z",
          "shell.execute_reply": "2021-07-30T13:38:06.561897Z"
        },
        "trusted": true,
        "id": "OhZC0VcRy6qz",
        "outputId": "5ad6868f-cb4d-45e7-fc7b-d8af3736e202"
      },
      "execution_count": null,
      "outputs": [
        {
          "execution_count": 83,
          "output_type": "execute_result",
          "data": {
            "text/plain": "{'animals': 0, 'birds': 1, 'flowers': 2}"
          },
          "metadata": {}
        }
      ]
    },
    {
      "cell_type": "code",
      "source": [
        "\n",
        "animals=train_datagen.flow_from_directory(\"../input/alphaxy/pro-ai/animals\")"
      ],
      "metadata": {
        "execution": {
          "iopub.status.busy": "2021-07-30T13:38:08.799268Z",
          "iopub.execute_input": "2021-07-30T13:38:08.799634Z",
          "iopub.status.idle": "2021-07-30T13:38:09.122078Z",
          "shell.execute_reply.started": "2021-07-30T13:38:08.799605Z",
          "shell.execute_reply": "2021-07-30T13:38:09.120985Z"
        },
        "trusted": true,
        "id": "pH2r3Zn7y6q0",
        "outputId": "b5c78539-6215-4d40-d274-f756ab93c11d"
      },
      "execution_count": null,
      "outputs": [
        {
          "name": "stdout",
          "text": "Found 5354 images belonging to 3 classes.\n",
          "output_type": "stream"
        }
      ]
    },
    {
      "cell_type": "code",
      "source": [
        "animals.class_indices"
      ],
      "metadata": {
        "execution": {
          "iopub.status.busy": "2021-07-30T13:38:11.169134Z",
          "iopub.execute_input": "2021-07-30T13:38:11.169523Z",
          "iopub.status.idle": "2021-07-30T13:38:11.175278Z",
          "shell.execute_reply.started": "2021-07-30T13:38:11.169477Z",
          "shell.execute_reply": "2021-07-30T13:38:11.174279Z"
        },
        "trusted": true,
        "id": "jJYpyC4vy6q1",
        "outputId": "687d7f93-fd9c-4919-f242-a73318b299c5"
      },
      "execution_count": null,
      "outputs": [
        {
          "execution_count": 85,
          "output_type": "execute_result",
          "data": {
            "text/plain": "{'gatto': 0, 'mucca': 1, 'pecora': 2}"
          },
          "metadata": {}
        }
      ]
    },
    {
      "cell_type": "code",
      "source": [
        "birds=train_datagen.flow_from_directory(\"../input/alphaxy/pro-ai/birds\")"
      ],
      "metadata": {
        "execution": {
          "iopub.status.busy": "2021-07-30T13:38:13.887559Z",
          "iopub.execute_input": "2021-07-30T13:38:13.887902Z",
          "iopub.status.idle": "2021-07-30T13:38:13.997397Z",
          "shell.execute_reply.started": "2021-07-30T13:38:13.887873Z",
          "shell.execute_reply": "2021-07-30T13:38:13.996126Z"
        },
        "trusted": true,
        "id": "LKSF3Pdcy6q2",
        "outputId": "cc3ab09e-2855-4422-a04d-02fc038f7858"
      },
      "execution_count": null,
      "outputs": [
        {
          "name": "stdout",
          "text": "Found 450 images belonging to 3 classes.\n",
          "output_type": "stream"
        }
      ]
    },
    {
      "cell_type": "code",
      "source": [
        "birds.class_indices"
      ],
      "metadata": {
        "execution": {
          "iopub.status.busy": "2021-07-30T13:38:16.080830Z",
          "iopub.execute_input": "2021-07-30T13:38:16.081244Z",
          "iopub.status.idle": "2021-07-30T13:38:16.087158Z",
          "shell.execute_reply.started": "2021-07-30T13:38:16.081183Z",
          "shell.execute_reply": "2021-07-30T13:38:16.086231Z"
        },
        "trusted": true,
        "id": "0qIOBwtty6q3",
        "outputId": "72ae9bc4-f2c1-4015-ae3c-31ecfb496814"
      },
      "execution_count": null,
      "outputs": [
        {
          "execution_count": 87,
          "output_type": "execute_result",
          "data": {
            "text/plain": "{'ANTBIRD': 0, 'PEACOCK': 1, 'WILD TURKEY': 2}"
          },
          "metadata": {}
        }
      ]
    },
    {
      "cell_type": "code",
      "source": [
        "flowers=train_datagen.flow_from_directory(\"../input/alphaxy/pro-ai/flowers\")"
      ],
      "metadata": {
        "execution": {
          "iopub.status.busy": "2021-07-30T13:38:21.198167Z",
          "iopub.execute_input": "2021-07-30T13:38:21.198515Z",
          "iopub.status.idle": "2021-07-30T13:38:21.416267Z",
          "shell.execute_reply.started": "2021-07-30T13:38:21.198485Z",
          "shell.execute_reply": "2021-07-30T13:38:21.415282Z"
        },
        "trusted": true,
        "id": "3P7G0dGBy6q4",
        "outputId": "fdd42913-adac-4e3b-8822-daf9c26d2fa8"
      },
      "execution_count": null,
      "outputs": [
        {
          "name": "stdout",
          "text": "Found 2501 images belonging to 3 classes.\n",
          "output_type": "stream"
        }
      ]
    },
    {
      "cell_type": "code",
      "source": [
        "flowers.class_indices"
      ],
      "metadata": {
        "execution": {
          "iopub.status.busy": "2021-07-30T13:38:23.794936Z",
          "iopub.execute_input": "2021-07-30T13:38:23.795350Z",
          "iopub.status.idle": "2021-07-30T13:38:23.801809Z",
          "shell.execute_reply.started": "2021-07-30T13:38:23.795316Z",
          "shell.execute_reply": "2021-07-30T13:38:23.800694Z"
        },
        "trusted": true,
        "id": "5X1NjH8yy6q5",
        "outputId": "ff15db4b-0c7f-486b-e7fe-1d97ddd560a2"
      },
      "execution_count": null,
      "outputs": [
        {
          "execution_count": 89,
          "output_type": "execute_result",
          "data": {
            "text/plain": "{'rose': 0, 'sunflower': 1, 'tulip': 2}"
          },
          "metadata": {}
        }
      ]
    },
    {
      "cell_type": "code",
      "source": [
        "model=Sequential()"
      ],
      "metadata": {
        "execution": {
          "iopub.status.busy": "2021-07-30T13:38:26.602366Z",
          "iopub.execute_input": "2021-07-30T13:38:26.602887Z",
          "iopub.status.idle": "2021-07-30T13:38:26.609747Z",
          "shell.execute_reply.started": "2021-07-30T13:38:26.602856Z",
          "shell.execute_reply": "2021-07-30T13:38:26.609076Z"
        },
        "trusted": true,
        "id": "-jTwqKAGy6q6"
      },
      "execution_count": null,
      "outputs": []
    },
    {
      "cell_type": "code",
      "source": [
        "model.add(Convolution2D(32,(3,3),input_shape = (64,64,3)))"
      ],
      "metadata": {
        "execution": {
          "iopub.status.busy": "2021-07-30T13:38:29.013940Z",
          "iopub.execute_input": "2021-07-30T13:38:29.014417Z",
          "iopub.status.idle": "2021-07-30T13:38:29.030614Z",
          "shell.execute_reply.started": "2021-07-30T13:38:29.014384Z",
          "shell.execute_reply": "2021-07-30T13:38:29.029615Z"
        },
        "trusted": true,
        "id": "gLRpplfoy6q6"
      },
      "execution_count": null,
      "outputs": []
    },
    {
      "cell_type": "code",
      "source": [
        "model.add(MaxPooling2D((2,2)))"
      ],
      "metadata": {
        "execution": {
          "iopub.status.busy": "2021-07-30T13:38:31.334918Z",
          "iopub.execute_input": "2021-07-30T13:38:31.335299Z",
          "iopub.status.idle": "2021-07-30T13:38:31.343828Z",
          "shell.execute_reply.started": "2021-07-30T13:38:31.335267Z",
          "shell.execute_reply": "2021-07-30T13:38:31.343106Z"
        },
        "trusted": true,
        "id": "jwtdFRD0y6q6"
      },
      "execution_count": null,
      "outputs": []
    },
    {
      "cell_type": "code",
      "source": [
        "model.add(Flatten())"
      ],
      "metadata": {
        "execution": {
          "iopub.status.busy": "2021-07-30T13:38:34.237000Z",
          "iopub.execute_input": "2021-07-30T13:38:34.237517Z",
          "iopub.status.idle": "2021-07-30T13:38:34.245577Z",
          "shell.execute_reply.started": "2021-07-30T13:38:34.237486Z",
          "shell.execute_reply": "2021-07-30T13:38:34.244772Z"
        },
        "trusted": true,
        "id": "NDIVubvxy6q7"
      },
      "execution_count": null,
      "outputs": []
    },
    {
      "cell_type": "code",
      "source": [
        "model.add(Dense(units = 128, kernel_initializer= \"random_uniform\",activation = \"relu\"))"
      ],
      "metadata": {
        "execution": {
          "iopub.status.busy": "2021-07-30T13:38:36.383745Z",
          "iopub.execute_input": "2021-07-30T13:38:36.384215Z",
          "iopub.status.idle": "2021-07-30T13:38:36.427009Z",
          "shell.execute_reply.started": "2021-07-30T13:38:36.384173Z",
          "shell.execute_reply": "2021-07-30T13:38:36.426009Z"
        },
        "trusted": true,
        "id": "LbccvlZ3y6q7"
      },
      "execution_count": null,
      "outputs": []
    },
    {
      "cell_type": "code",
      "source": [
        "model.add(Dense(units = 3, kernel_initializer= \"random_uniform\",activation = \"softmax\"))"
      ],
      "metadata": {
        "execution": {
          "iopub.status.busy": "2021-07-30T13:38:38.801012Z",
          "iopub.execute_input": "2021-07-30T13:38:38.801408Z",
          "iopub.status.idle": "2021-07-30T13:38:38.816921Z",
          "shell.execute_reply.started": "2021-07-30T13:38:38.801375Z",
          "shell.execute_reply": "2021-07-30T13:38:38.815697Z"
        },
        "trusted": true,
        "id": "kqZbq7Aoy6q7"
      },
      "execution_count": null,
      "outputs": []
    },
    {
      "cell_type": "code",
      "source": [
        "model.compile(optimizer= \"rmsprop\",loss = \"categorical_crossentropy\" , metrics =[\"accuracy\"])"
      ],
      "metadata": {
        "execution": {
          "iopub.status.busy": "2021-07-30T13:38:41.613302Z",
          "iopub.execute_input": "2021-07-30T13:38:41.613796Z",
          "iopub.status.idle": "2021-07-30T13:38:41.625858Z",
          "shell.execute_reply.started": "2021-07-30T13:38:41.613765Z",
          "shell.execute_reply": "2021-07-30T13:38:41.624795Z"
        },
        "trusted": true,
        "id": "sk5rEjR5y6q7"
      },
      "execution_count": null,
      "outputs": []
    },
    {
      "cell_type": "code",
      "source": [
        "model.fit_generator(x_train,steps_per_epoch =251 ,epochs = 5, validation_data = x_test,validation_steps =28 )"
      ],
      "metadata": {
        "execution": {
          "iopub.status.busy": "2021-07-30T13:08:55.553296Z",
          "iopub.execute_input": "2021-07-30T13:08:55.553804Z",
          "iopub.status.idle": "2021-07-30T13:13:29.019608Z",
          "shell.execute_reply.started": "2021-07-30T13:08:55.553751Z",
          "shell.execute_reply": "2021-07-30T13:13:29.018626Z"
        },
        "trusted": true,
        "id": "XHF_lJCFy6q7",
        "outputId": "6dceb972-2b52-4646-8b94-4be82341b973"
      },
      "execution_count": null,
      "outputs": [
        {
          "name": "stdout",
          "text": "Epoch 1/5\n251/251 [==============================] - 54s 214ms/step - loss: 0.2368 - accuracy: 0.9161 - val_loss: 0.2581 - val_accuracy: 0.9051\nEpoch 2/5\n251/251 [==============================] - 54s 215ms/step - loss: 0.2189 - accuracy: 0.9222 - val_loss: 0.4511 - val_accuracy: 0.8326\nEpoch 3/5\n251/251 [==============================] - 55s 221ms/step - loss: 0.2112 - accuracy: 0.9244 - val_loss: 0.7017 - val_accuracy: 0.7746\nEpoch 4/5\n251/251 [==============================] - 55s 218ms/step - loss: 0.1906 - accuracy: 0.9355 - val_loss: 0.7836 - val_accuracy: 0.7578\nEpoch 5/5\n251/251 [==============================] - 55s 220ms/step - loss: 0.1977 - accuracy: 0.9320 - val_loss: 0.2424 - val_accuracy: 0.9107\n",
          "output_type": "stream"
        },
        {
          "execution_count": 28,
          "output_type": "execute_result",
          "data": {
            "text/plain": "<tensorflow.python.keras.callbacks.History at 0x7f60d847a610>"
          },
          "metadata": {}
        }
      ]
    },
    {
      "cell_type": "code",
      "source": [
        "model.save(\"natur1.h5\")"
      ],
      "metadata": {
        "execution": {
          "iopub.status.busy": "2021-07-30T14:26:23.612500Z",
          "iopub.execute_input": "2021-07-30T14:26:23.612857Z",
          "iopub.status.idle": "2021-07-30T14:26:23.658550Z",
          "shell.execute_reply.started": "2021-07-30T14:26:23.612829Z",
          "shell.execute_reply": "2021-07-30T14:26:23.657187Z"
        },
        "trusted": true,
        "id": "KzKkRp6Gy6q8"
      },
      "execution_count": null,
      "outputs": []
    },
    {
      "cell_type": "code",
      "source": [
        "from tensorflow.keras.models import load_model\n",
        "from tensorflow.keras.preprocessing  import image\n",
        "import numpy as np\n",
        "model = load_model(\"./natur1.h5\")"
      ],
      "metadata": {
        "execution": {
          "iopub.status.busy": "2021-07-30T14:26:26.402940Z",
          "iopub.execute_input": "2021-07-30T14:26:26.403340Z",
          "iopub.status.idle": "2021-07-30T14:26:26.488859Z",
          "shell.execute_reply.started": "2021-07-30T14:26:26.403304Z",
          "shell.execute_reply": "2021-07-30T14:26:26.487875Z"
        },
        "trusted": true,
        "id": "g0TG_Kjay6q8"
      },
      "execution_count": null,
      "outputs": []
    },
    {
      "cell_type": "code",
      "source": [
        "from IPython.display import Image\n",
        "img=Image(filename=\"../input/imagegatto/imagegatto.jpg\")\n",
        "img"
      ],
      "metadata": {
        "execution": {
          "iopub.status.busy": "2021-07-30T15:03:59.515356Z",
          "iopub.execute_input": "2021-07-30T15:03:59.515729Z",
          "iopub.status.idle": "2021-07-30T15:03:59.530842Z",
          "shell.execute_reply.started": "2021-07-30T15:03:59.515696Z",
          "shell.execute_reply": "2021-07-30T15:03:59.530165Z"
        },
        "trusted": true,
        "id": "8v65oMaFy6q8",
        "outputId": "60b99f30-4efa-41d5-ed15-61445ef623ca"
      },
      "execution_count": null,
      "outputs": [
        {
          "execution_count": 145,
          "output_type": "execute_result",
          "data": {
            "image/jpeg": "[encoded data removed]",
            "text/plain": "<IPython.core.display.Image object>"
          },
          "metadata": {}
        }
      ]
    },
    {
      "cell_type": "code",
      "source": [
        "from tensorflow.keras.preprocessing  import image\n",
        "path2=\"../input/imagegatto/imagegatto.jpg\"\n",
        "\n",
        "img = image.load_img(path2,target_size = (64,64))\n"
      ],
      "metadata": {
        "execution": {
          "iopub.status.busy": "2021-07-30T15:04:06.309423Z",
          "iopub.execute_input": "2021-07-30T15:04:06.309951Z",
          "iopub.status.idle": "2021-07-30T15:04:06.318512Z",
          "shell.execute_reply.started": "2021-07-30T15:04:06.309901Z",
          "shell.execute_reply": "2021-07-30T15:04:06.317544Z"
        },
        "trusted": true,
        "id": "O_9zXJvRy6q8"
      },
      "execution_count": null,
      "outputs": []
    },
    {
      "cell_type": "code",
      "source": [
        "type(img)"
      ],
      "metadata": {
        "execution": {
          "iopub.status.busy": "2021-07-30T14:26:35.647306Z",
          "iopub.execute_input": "2021-07-30T14:26:35.647626Z",
          "iopub.status.idle": "2021-07-30T14:26:35.652888Z",
          "shell.execute_reply.started": "2021-07-30T14:26:35.647598Z",
          "shell.execute_reply": "2021-07-30T14:26:35.652105Z"
        },
        "trusted": true,
        "id": "UMBnYABty6q9",
        "outputId": "521f4c4b-a45f-423a-9e66-1c45dd4e7d4a"
      },
      "execution_count": null,
      "outputs": [
        {
          "execution_count": 138,
          "output_type": "execute_result",
          "data": {
            "text/plain": "PIL.Image.Image"
          },
          "metadata": {}
        }
      ]
    },
    {
      "cell_type": "code",
      "source": [
        "x = image.img_to_array(img)\n"
      ],
      "metadata": {
        "execution": {
          "iopub.status.busy": "2021-07-30T14:26:37.867103Z",
          "iopub.execute_input": "2021-07-30T14:26:37.867585Z",
          "iopub.status.idle": "2021-07-30T14:26:37.871501Z",
          "shell.execute_reply.started": "2021-07-30T14:26:37.867556Z",
          "shell.execute_reply": "2021-07-30T14:26:37.870600Z"
        },
        "trusted": true,
        "id": "-BGBPBwey6q9"
      },
      "execution_count": null,
      "outputs": []
    },
    {
      "cell_type": "code",
      "source": [
        "x.shape"
      ],
      "metadata": {
        "execution": {
          "iopub.status.busy": "2021-07-30T14:26:40.243910Z",
          "iopub.execute_input": "2021-07-30T14:26:40.244272Z",
          "iopub.status.idle": "2021-07-30T14:26:40.249429Z",
          "shell.execute_reply.started": "2021-07-30T14:26:40.244241Z",
          "shell.execute_reply": "2021-07-30T14:26:40.248727Z"
        },
        "trusted": true,
        "id": "19jhl1pUy6q9",
        "outputId": "0dd7cca8-5e68-45d8-f82a-3ef9f32e5f4a"
      },
      "execution_count": null,
      "outputs": [
        {
          "execution_count": 140,
          "output_type": "execute_result",
          "data": {
            "text/plain": "(64, 64, 3)"
          },
          "metadata": {}
        }
      ]
    },
    {
      "cell_type": "code",
      "source": [
        "type(x)"
      ],
      "metadata": {
        "execution": {
          "iopub.status.busy": "2021-07-30T14:26:42.845180Z",
          "iopub.execute_input": "2021-07-30T14:26:42.845761Z",
          "iopub.status.idle": "2021-07-30T14:26:42.851392Z",
          "shell.execute_reply.started": "2021-07-30T14:26:42.845720Z",
          "shell.execute_reply": "2021-07-30T14:26:42.850417Z"
        },
        "trusted": true,
        "id": "EeyCEoHyy6q9",
        "outputId": "eeea347f-0933-46d8-a628-ea7353502021"
      },
      "execution_count": null,
      "outputs": [
        {
          "execution_count": 141,
          "output_type": "execute_result",
          "data": {
            "text/plain": "numpy.ndarray"
          },
          "metadata": {}
        }
      ]
    },
    {
      "cell_type": "code",
      "source": [
        "x = np.expand_dims(x,axis = 0)\n",
        "x.shape"
      ],
      "metadata": {
        "execution": {
          "iopub.status.busy": "2021-07-30T14:26:45.099039Z",
          "iopub.execute_input": "2021-07-30T14:26:45.099410Z",
          "iopub.status.idle": "2021-07-30T14:26:45.105968Z",
          "shell.execute_reply.started": "2021-07-30T14:26:45.099380Z",
          "shell.execute_reply": "2021-07-30T14:26:45.105009Z"
        },
        "trusted": true,
        "id": "pUDgAqQiy6q9",
        "outputId": "306a5c2a-a069-425b-80a2-ebf93481dd80"
      },
      "execution_count": null,
      "outputs": [
        {
          "execution_count": 142,
          "output_type": "execute_result",
          "data": {
            "text/plain": "(1, 64, 64, 3)"
          },
          "metadata": {}
        }
      ]
    },
    {
      "cell_type": "code",
      "source": [
        "pred = np.argmax(model.predict(x))\n",
        "pred"
      ],
      "metadata": {
        "execution": {
          "iopub.status.busy": "2021-07-30T14:26:47.891354Z",
          "iopub.execute_input": "2021-07-30T14:26:47.891718Z",
          "iopub.status.idle": "2021-07-30T14:26:47.970983Z",
          "shell.execute_reply.started": "2021-07-30T14:26:47.891684Z",
          "shell.execute_reply": "2021-07-30T14:26:47.970111Z"
        },
        "trusted": true,
        "id": "hb7tlCIYy6q-",
        "outputId": "7e270048-cbef-4670-e842-d1c0da823059"
      },
      "execution_count": null,
      "outputs": [
        {
          "execution_count": 143,
          "output_type": "execute_result",
          "data": {
            "text/plain": "0"
          },
          "metadata": {}
        }
      ]
    },
    {
      "cell_type": "code",
      "source": [
        "index=[\"animals\",\"birds\",\"flowers\"]"
      ],
      "metadata": {
        "execution": {
          "iopub.status.busy": "2021-07-30T14:17:01.394694Z",
          "iopub.execute_input": "2021-07-30T14:17:01.395224Z",
          "iopub.status.idle": "2021-07-30T14:17:01.399914Z",
          "shell.execute_reply.started": "2021-07-30T14:17:01.395163Z",
          "shell.execute_reply": "2021-07-30T14:17:01.398951Z"
        },
        "trusted": true,
        "id": "bD2-7XDFy6q-"
      },
      "execution_count": null,
      "outputs": []
    },
    {
      "cell_type": "code",
      "source": [
        "natur1=index[pred]\n"
      ],
      "metadata": {
        "execution": {
          "iopub.status.busy": "2021-07-30T14:17:43.903578Z",
          "iopub.execute_input": "2021-07-30T14:17:43.904279Z",
          "iopub.status.idle": "2021-07-30T14:17:43.909176Z",
          "shell.execute_reply.started": "2021-07-30T14:17:43.904230Z",
          "shell.execute_reply": "2021-07-30T14:17:43.908214Z"
        },
        "trusted": true,
        "id": "5DgtEs-xy6q-"
      },
      "execution_count": null,
      "outputs": []
    },
    {
      "cell_type": "code",
      "source": [
        "natur1"
      ],
      "metadata": {
        "execution": {
          "iopub.status.busy": "2021-07-30T14:18:15.922945Z",
          "iopub.execute_input": "2021-07-30T14:18:15.923631Z",
          "iopub.status.idle": "2021-07-30T14:18:15.930643Z",
          "shell.execute_reply.started": "2021-07-30T14:18:15.923582Z",
          "shell.execute_reply": "2021-07-30T14:18:15.929642Z"
        },
        "trusted": true,
        "id": "WGSuM1Owy6q-",
        "outputId": "0ba11ad9-ff5c-4dbc-ad32-2349cc2a1011"
      },
      "execution_count": null,
      "outputs": [
        {
          "execution_count": 115,
          "output_type": "execute_result",
          "data": {
            "text/plain": "'animals'"
          },
          "metadata": {}
        }
      ]
    },
    {
      "cell_type": "code",
      "source": [
        "if natur1==\"animals\":\n",
        " a=[\"gatto\",\"mucca\",\"pecora\"]\n",
        "elif natur1==\"birds\":\n",
        " a=[\"ANTBIRD\",\"PEACOCK\",\"WILD TURKEY\"]\n",
        "else:\n",
        " a=[\"rose\",\"sunflower\",\"tulip\"]"
      ],
      "metadata": {
        "execution": {
          "iopub.status.busy": "2021-07-30T14:23:07.972810Z",
          "iopub.execute_input": "2021-07-30T14:23:07.973171Z",
          "iopub.status.idle": "2021-07-30T14:23:07.978488Z",
          "shell.execute_reply.started": "2021-07-30T14:23:07.973140Z",
          "shell.execute_reply": "2021-07-30T14:23:07.977443Z"
        },
        "trusted": true,
        "id": "RVE5j95ky6q-"
      },
      "execution_count": null,
      "outputs": []
    },
    {
      "cell_type": "code",
      "source": [
        "a"
      ],
      "metadata": {
        "execution": {
          "iopub.status.busy": "2021-07-30T14:23:34.797332Z",
          "iopub.execute_input": "2021-07-30T14:23:34.797673Z",
          "iopub.status.idle": "2021-07-30T14:23:34.803304Z",
          "shell.execute_reply.started": "2021-07-30T14:23:34.797644Z",
          "shell.execute_reply": "2021-07-30T14:23:34.802424Z"
        },
        "trusted": true,
        "id": "5MzOvXX6y6q-",
        "outputId": "35ff4142-4688-4ff6-957e-39008aad811c"
      },
      "execution_count": null,
      "outputs": [
        {
          "execution_count": 123,
          "output_type": "execute_result",
          "data": {
            "text/plain": "['gatto', 'mucca', 'pecora']"
          },
          "metadata": {}
        }
      ]
    },
    {
      "cell_type": "code",
      "source": [
        "natur1=a[pred]"
      ],
      "metadata": {
        "execution": {
          "iopub.status.busy": "2021-07-30T14:23:56.473139Z",
          "iopub.execute_input": "2021-07-30T14:23:56.473534Z",
          "iopub.status.idle": "2021-07-30T14:23:56.477161Z",
          "shell.execute_reply.started": "2021-07-30T14:23:56.473502Z",
          "shell.execute_reply": "2021-07-30T14:23:56.476381Z"
        },
        "trusted": true,
        "id": "qg10-qbmy6q_"
      },
      "execution_count": null,
      "outputs": []
    },
    {
      "cell_type": "code",
      "source": [
        "natur1"
      ],
      "metadata": {
        "execution": {
          "iopub.status.busy": "2021-07-30T14:24:05.121948Z",
          "iopub.execute_input": "2021-07-30T14:24:05.122306Z",
          "iopub.status.idle": "2021-07-30T14:24:05.127824Z",
          "shell.execute_reply.started": "2021-07-30T14:24:05.122272Z",
          "shell.execute_reply": "2021-07-30T14:24:05.126873Z"
        },
        "trusted": true,
        "id": "m2ZkvFBey6q_",
        "outputId": "308b53f3-e890-4aad-ec8d-bf6517302874"
      },
      "execution_count": null,
      "outputs": [
        {
          "execution_count": 125,
          "output_type": "execute_result",
          "data": {
            "text/plain": "'gatto'"
          },
          "metadata": {}
        }
      ]
    },
    {
      "cell_type": "code",
      "source": [
        "model.save_weights(\"naturalist\")"
      ],
      "metadata": {
        "execution": {
          "iopub.status.busy": "2021-07-30T15:41:52.197630Z",
          "iopub.execute_input": "2021-07-30T15:41:52.197949Z",
          "iopub.status.idle": "2021-07-30T15:41:52.243388Z",
          "shell.execute_reply.started": "2021-07-30T15:41:52.197922Z",
          "shell.execute_reply": "2021-07-30T15:41:52.242535Z"
        },
        "trusted": true,
        "id": "jRTo4BvBy6q_"
      },
      "execution_count": null,
      "outputs": []
    },
    {
      "cell_type": "code",
      "source": [
        ""
      ],
      "metadata": {
        "id": "G4yGddBLy6rA"
      },
      "execution_count": null,
      "outputs": []
    },
    {
      "cell_type": "code",
      "source": [
        ""
      ],
      "metadata": {
        "id": "TU97waG0y6rA"
      },
      "execution_count": null,
      "outputs": []
    },
    {
      "cell_type": "code",
      "source": [
        ""
      ],
      "metadata": {
        "id": "G5xPV1MJy6rA"
      },
      "execution_count": null,
      "outputs": []
    }
  ]
}